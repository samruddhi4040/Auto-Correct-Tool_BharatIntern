{
 "cells": [
  {
   "cell_type": "markdown",
   "id": "3323dc1d",
   "metadata": {},
   "source": [
    "# Download the Levenshtein package"
   ]
  },
  {
   "cell_type": "code",
   "execution_count": 1,
   "id": "791a1e61",
   "metadata": {},
   "outputs": [
    {
     "name": "stdout",
     "output_type": "stream",
     "text": [
      "Requirement already satisfied: Levenshtein in c:\\users\\dell\\anaconda3\\lib\\site-packages (0.21.1)\n",
      "Requirement already satisfied: rapidfuzz<4.0.0,>=2.3.0 in c:\\users\\dell\\anaconda3\\lib\\site-packages (from Levenshtein) (3.2.0)\n"
     ]
    }
   ],
   "source": [
    "!pip install Levenshtein"
   ]
  },
  {
   "cell_type": "markdown",
   "id": "25d00d0f",
   "metadata": {},
   "source": [
    "# Downloading the 'textdistance' package\n"
   ]
  },
  {
   "cell_type": "code",
   "execution_count": 2,
   "id": "cf5708dc",
   "metadata": {},
   "outputs": [
    {
     "name": "stdout",
     "output_type": "stream",
     "text": [
      "Requirement already satisfied: textdistance in c:\\users\\dell\\anaconda3\\lib\\site-packages (4.2.1)\n"
     ]
    }
   ],
   "source": [
    "!pip install textdistance"
   ]
  },
  {
   "cell_type": "code",
   "execution_count": 3,
   "id": "722a544d",
   "metadata": {},
   "outputs": [],
   "source": [
    "import textdistance"
   ]
  },
  {
   "cell_type": "markdown",
   "id": "d1fbaa4f",
   "metadata": {},
   "source": [
    "# Sample word list "
   ]
  },
  {
   "cell_type": "code",
   "execution_count": 4,
   "id": "f3a2da49",
   "metadata": {},
   "outputs": [],
   "source": [
    "given_list = ['red','black','white','green','yellow','orange','pink','blue']\n",
    "\n",
    "def correct_word(input_word, given_list):\n",
    "    minimum_distance = float('inf')\n",
    "    closest_word = None\n",
    "\n",
    "    for word in given_list:\n",
    "        distance = textdistance.levenshtein.normalized_distance(input_word, word)\n",
    "        if distance < minimum_distance:\n",
    "            minimum_distance = distance\n",
    "            closest_word = word\n",
    "\n",
    "    return closest_word\n",
    "\n",
    "def spell_check(input_text, given_list):\n",
    "    corrected_text = []\n",
    "    for word in input_text.split():\n",
    "        corrected_word = correct_word(word, given_list)\n",
    "        corrected_text.append(corrected_word)\n",
    "\n",
    "    return ' '.join(corrected_text)"
   ]
  },
  {
   "cell_type": "markdown",
   "id": "3359f8e4",
   "metadata": {},
   "source": [
    "# Take input from user "
   ]
  },
  {
   "cell_type": "code",
   "execution_count": 5,
   "id": "4b097a38",
   "metadata": {},
   "outputs": [
    {
     "name": "stdout",
     "output_type": "stream",
     "text": [
      "Enter your text: blek\n"
     ]
    }
   ],
   "source": [
    "user_input_text = input(\"Enter your text: \")"
   ]
  },
  {
   "cell_type": "markdown",
   "id": "ad988a1a",
   "metadata": {},
   "source": [
    "# Correcting the input text and displaying the result"
   ]
  },
  {
   "cell_type": "code",
   "execution_count": 6,
   "id": "8cac8091",
   "metadata": {},
   "outputs": [
    {
     "name": "stdout",
     "output_type": "stream",
     "text": [
      "Corrected Text:  black\n"
     ]
    }
   ],
   "source": [
    "corrected_text = spell_check(user_input_text, given_list)\n",
    "print(\"Corrected Text: \", corrected_text)"
   ]
  }
 ],
 "metadata": {
  "kernelspec": {
   "display_name": "Python 3 (ipykernel)",
   "language": "python",
   "name": "python3"
  },
  "language_info": {
   "codemirror_mode": {
    "name": "ipython",
    "version": 3
   },
   "file_extension": ".py",
   "mimetype": "text/x-python",
   "name": "python",
   "nbconvert_exporter": "python",
   "pygments_lexer": "ipython3",
   "version": "3.11.3"
  }
 },
 "nbformat": 4,
 "nbformat_minor": 5
}
